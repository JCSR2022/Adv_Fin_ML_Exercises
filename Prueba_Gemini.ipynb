{
  "nbformat": 4,
  "nbformat_minor": 0,
  "metadata": {
    "colab": {
      "provenance": [],
      "authorship_tag": "ABX9TyOyDHpraY/0jDKQOMRjbs+G",
      "include_colab_link": true
    },
    "kernelspec": {
      "name": "python3",
      "display_name": "Python 3"
    },
    "language_info": {
      "name": "python"
    }
  },
  "cells": [
    {
      "cell_type": "markdown",
      "metadata": {
        "id": "view-in-github",
        "colab_type": "text"
      },
      "source": [
        "<a href=\"https://colab.research.google.com/github/JCSR2022/Adv_Fin_ML_Exercises/blob/master/Prueba_Gemini.ipynb\" target=\"_parent\"><img src=\"https://colab.research.google.com/assets/colab-badge.svg\" alt=\"Open In Colab\"/></a>"
      ]
    },
    {
      "cell_type": "code",
      "execution_count": 1,
      "metadata": {
        "id": "id5qNoIA_yZO"
      },
      "outputs": [],
      "source": [
        "# https://www.youtube.com/watch?v=XOo_xdt1HKc\n",
        "# Aprende a usar la API de Google Gemini Pro GRATIS | Google AI Studio | Python + Google Colab\n",
        "\n",
        "\n",
        "#https://www.youtube.com/redirect?event=video_description&redir_token=QUFFLUhqbk91OU1EejAtZWFiSW9BakhGZzJzQVN5SWxuQXxBQ3Jtc0tsWkI0dDh0ZURDUklIWkhzTTI4NWQ5RUJxMF9vdmFCLVhrcWc1THFZYnZPbmJicEhIWXlPZklQZkI0clllREFKdzFudHJtUVluRWRYb3RBNWcyMzdHai15YmotVzFDbWlmTGJDS1VFbWRtd00zaVRmQQ&q=https%3A%2F%2Fcolab.research.google.com%2Fdrive%2F1lylG8hQlIMTfiF3CfkmUUhhrwVO4vonC%3Fusp%3Dsharing%26ref%3Devoacademy.cl&v=XOo_xdt1HKc\n",
        "\n",
        "#https://colab.research.google.com/drive/1lylG8hQlIMTfiF3CfkmUUhhrwVO4vonC?usp=sharing&ref=evoacademy.cl#scrollTo=mz0mCmLzuHgM\n",
        "\n",
        "\n",
        "!pip install -q -U google-generativeai\n",
        "\n"
      ]
    },
    {
      "cell_type": "code",
      "source": [
        "# Importamos el paquete recien instalado\n",
        "import google.generativeai as genai\n",
        "\n",
        "# Esto es para usar secrets, la nueva opción de Google Colab, para almacenar la API key\n",
        "from google.colab import userdata"
      ],
      "metadata": {
        "id": "ztzQw5rpAYhz"
      },
      "execution_count": 2,
      "outputs": []
    },
    {
      "cell_type": "code",
      "source": [
        "import textwrap\n",
        "from IPython.display import display\n",
        "from IPython.display import Markdown\n",
        "\n",
        "# Esta función se usa para dejar el formato Markdown que devuelve Gemini en formato compatible con Colab\n",
        "def to_markdown(text):\n",
        "  text = text.replace('•', '  *')\n",
        "  return Markdown(textwrap.indent(text, '> ', predicate=lambda _: True))"
      ],
      "metadata": {
        "id": "3xToQ0ONBgLS"
      },
      "execution_count": 3,
      "outputs": []
    },
    {
      "cell_type": "code",
      "source": [
        "# Configuramos nuestra instancia del modelo con nuestra API key\n",
        "GOOGLE_API_KEY = userdata.get('GOOGLE_API_KEY')\n",
        "\n",
        "genai.configure(api_key = GOOGLE_API_KEY)"
      ],
      "metadata": {
        "id": "ibbAwQyvBkkE"
      },
      "execution_count": 4,
      "outputs": []
    },
    {
      "cell_type": "code",
      "source": [
        "# Define una variable model, usando gemini-pro\n",
        "\n",
        "model = genai.GenerativeModel('gemini-pro')"
      ],
      "metadata": {
        "id": "RfIuNLWdBx9G"
      },
      "execution_count": 5,
      "outputs": []
    },
    {
      "cell_type": "code",
      "source": [
        "response = model.generate_content(\"¿Me puedes dar una descripcion general de que es y como funciona Dash de python?\")"
      ],
      "metadata": {
        "id": "TkzT3VzNB5KT"
      },
      "execution_count": 6,
      "outputs": []
    },
    {
      "cell_type": "code",
      "source": [
        "to_markdown(response.text)"
      ],
      "metadata": {
        "colab": {
          "base_uri": "https://localhost:8080/",
          "height": 614
        },
        "id": "KFKf_HbeCJgO",
        "outputId": "31da11ae-48d3-43d6-c757-f4c32993c630"
      },
      "execution_count": 8,
      "outputs": [
        {
          "output_type": "execute_result",
          "data": {
            "text/plain": [
              "<IPython.core.display.Markdown object>"
            ],
            "text/markdown": "> Dash de Python es un poderoso framework de Python que permite construir aplicaciones web interactivas, paneles de control y visualizaciones de datos. Es conocido por su facilidad de uso, flexibilidad y su capacidad para crear aplicaciones web sofisticadas sin necesidad de conocimientos previos de JavaScript o HTML.\n> \n> **Cómo funciona Dash**\n> \n> Dash se basa en las bibliotecas Flask y Plotly. Flask es un framework web ligero que proporciona una interfaz de alto nivel para crear aplicaciones web. Plotly es una biblioteca de visualización gráfica que permite crear gráficos interactivos y dinámicos en Python.\n> \n> Dash se ejecuta en un servidor web, como Apache o Nginx, y utiliza el framework Flask para manejar las solicitudes y respuestas HTTP. Cuando se realiza una solicitud a una aplicación Dash, el servidor web carga el código Python necesario para generar la aplicación web. El código Python utiliza Plotly para crear los gráficos y otros elementos interactivos de la aplicación web. La aplicación web se envía entonces al navegador del usuario en forma de página web.\n> \n> **Ventajas de Dash**\n> \n> Dash ofrece una serie de ventajas sobre otros frameworks de desarrollo web:\n> \n> * **Facilidad de uso:** Dash es fácil de aprender y utilizar, incluso para los desarrolladores con poca o ninguna experiencia en desarrollo web.\n> * **Flexibilidad:** Dash permite crear una amplia variedad de aplicaciones web, desde simples paneles de control hasta aplicaciones web complejas con funciones interactivas.\n> * **Código declarativo:** Dash utiliza un estilo de programación declarativo, lo que hace que el código sea más fácil de leer y mantener.\n> * **Rendimiento:** Dash es un framework muy eficiente que puede manejar grandes cantidades de datos y gráficos complejos sin problemas de rendimiento.\n> \n> **Aplicaciones de Dash**\n> \n> Dash se utiliza para crear una amplia variedad de aplicaciones web, incluyendo:\n> \n> * **Paneles de control:** Dash se utiliza para crear paneles de control interactivos que permiten a los usuarios visualizar y analizar datos.\n> * **Visualizaciones de datos:** Dash se utiliza para crear visualizaciones de datos dinámicas e interactivas que ayudan a los usuarios a entender los datos de una manera más clara y eficaz.\n> * **Aplicaciones web:** Dash se puede utilizar para crear aplicaciones web completas con funciones interactivas, como formularios, tablas y gráficos.\n> \n> **Conclusion**\n> \n> Dash es un potente framework de Python que permite crear aplicaciones web interactivas, paneles de control y visualizaciones de datos. Es fácil de usar, flexible y eficiente, lo que lo convierte en una opción ideal para los desarrolladores que desean crear aplicaciones web sofisticadas sin necesidad de conocimientos previos de JavaScript o HTML."
          },
          "metadata": {},
          "execution_count": 8
        }
      ]
    }
  ]
}