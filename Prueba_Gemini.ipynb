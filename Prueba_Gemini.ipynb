{
  "nbformat": 4,
  "nbformat_minor": 0,
  "metadata": {
    "colab": {
      "provenance": [],
      "authorship_tag": "ABX9TyNTN6EdaGbb+8gWuCrDgBzX",
      "include_colab_link": true
    },
    "kernelspec": {
      "name": "python3",
      "display_name": "Python 3"
    },
    "language_info": {
      "name": "python"
    }
  },
  "cells": [
    {
      "cell_type": "markdown",
      "metadata": {
        "id": "view-in-github",
        "colab_type": "text"
      },
      "source": [
        "<a href=\"https://colab.research.google.com/github/JCSR2022/Adv_Fin_ML_Exercises/blob/master/Prueba_Gemini.ipynb\" target=\"_parent\"><img src=\"https://colab.research.google.com/assets/colab-badge.svg\" alt=\"Open In Colab\"/></a>"
      ]
    },
    {
      "cell_type": "code",
      "execution_count": 1,
      "metadata": {
        "id": "id5qNoIA_yZO"
      },
      "outputs": [],
      "source": [
        "# https://www.youtube.com/watch?v=XOo_xdt1HKc\n",
        "# Aprende a usar la API de Google Gemini Pro GRATIS | Google AI Studio | Python + Google Colab\n",
        "\n",
        "\n",
        "#https://www.youtube.com/redirect?event=video_description&redir_token=QUFFLUhqbk91OU1EejAtZWFiSW9BakhGZzJzQVN5SWxuQXxBQ3Jtc0tsWkI0dDh0ZURDUklIWkhzTTI4NWQ5RUJxMF9vdmFCLVhrcWc1THFZYnZPbmJicEhIWXlPZklQZkI0clllREFKdzFudHJtUVluRWRYb3RBNWcyMzdHai15YmotVzFDbWlmTGJDS1VFbWRtd00zaVRmQQ&q=https%3A%2F%2Fcolab.research.google.com%2Fdrive%2F1lylG8hQlIMTfiF3CfkmUUhhrwVO4vonC%3Fusp%3Dsharing%26ref%3Devoacademy.cl&v=XOo_xdt1HKc\n",
        "\n",
        "#https://colab.research.google.com/drive/1lylG8hQlIMTfiF3CfkmUUhhrwVO4vonC?usp=sharing&ref=evoacademy.cl#scrollTo=mz0mCmLzuHgM\n",
        "\n",
        "\n",
        "!pip install -q -U google-generativeai\n",
        "\n"
      ]
    },
    {
      "cell_type": "code",
      "source": [
        "# Importamos el paquete recien instalado\n",
        "import google.generativeai as genai\n",
        "\n",
        "# Esto es para usar secrets, la nueva opción de Google Colab, para almacenar la API key\n",
        "from google.colab import userdata"
      ],
      "metadata": {
        "id": "ztzQw5rpAYhz"
      },
      "execution_count": 2,
      "outputs": []
    },
    {
      "cell_type": "code",
      "source": [
        "import textwrap\n",
        "from IPython.display import display\n",
        "from IPython.display import Markdown\n",
        "\n",
        "# Esta función se usa para dejar el formato Markdown que devuelve Gemini en formato compatible con Colab\n",
        "def to_markdown(text):\n",
        "  text = text.replace('•', '  *')\n",
        "  return Markdown(textwrap.indent(text, '> ', predicate=lambda _: True))"
      ],
      "metadata": {
        "id": "3xToQ0ONBgLS"
      },
      "execution_count": 3,
      "outputs": []
    },
    {
      "cell_type": "code",
      "source": [
        "# Configuramos nuestra instancia del modelo con nuestra API key\n",
        "GOOGLE_API_KEY = userdata.get('GOOGLE_API_KEY')\n",
        "\n",
        "genai.configure(api_key = GOOGLE_API_KEY)"
      ],
      "metadata": {
        "id": "ibbAwQyvBkkE"
      },
      "execution_count": 4,
      "outputs": []
    },
    {
      "cell_type": "code",
      "source": [
        "# Define una variable model, usando gemini-pro\n",
        "\n",
        "model = genai.GenerativeModel('gemini-pro')"
      ],
      "metadata": {
        "id": "RfIuNLWdBx9G"
      },
      "execution_count": 22,
      "outputs": []
    },
    {
      "cell_type": "code",
      "source": [
        "response = model.generate_content(\"¿Me puedes dar una descripcion general de que es y como funciona Dash de python?\")"
      ],
      "metadata": {
        "id": "TkzT3VzNB5KT"
      },
      "execution_count": 6,
      "outputs": []
    },
    {
      "cell_type": "code",
      "source": [
        "to_markdown(response.text)"
      ],
      "metadata": {
        "colab": {
          "base_uri": "https://localhost:8080/",
          "height": 614
        },
        "id": "KFKf_HbeCJgO",
        "outputId": "31da11ae-48d3-43d6-c757-f4c32993c630"
      },
      "execution_count": 8,
      "outputs": [
        {
          "output_type": "execute_result",
          "data": {
            "text/plain": [
              "<IPython.core.display.Markdown object>"
            ],
            "text/markdown": "> Dash de Python es un poderoso framework de Python que permite construir aplicaciones web interactivas, paneles de control y visualizaciones de datos. Es conocido por su facilidad de uso, flexibilidad y su capacidad para crear aplicaciones web sofisticadas sin necesidad de conocimientos previos de JavaScript o HTML.\n> \n> **Cómo funciona Dash**\n> \n> Dash se basa en las bibliotecas Flask y Plotly. Flask es un framework web ligero que proporciona una interfaz de alto nivel para crear aplicaciones web. Plotly es una biblioteca de visualización gráfica que permite crear gráficos interactivos y dinámicos en Python.\n> \n> Dash se ejecuta en un servidor web, como Apache o Nginx, y utiliza el framework Flask para manejar las solicitudes y respuestas HTTP. Cuando se realiza una solicitud a una aplicación Dash, el servidor web carga el código Python necesario para generar la aplicación web. El código Python utiliza Plotly para crear los gráficos y otros elementos interactivos de la aplicación web. La aplicación web se envía entonces al navegador del usuario en forma de página web.\n> \n> **Ventajas de Dash**\n> \n> Dash ofrece una serie de ventajas sobre otros frameworks de desarrollo web:\n> \n> * **Facilidad de uso:** Dash es fácil de aprender y utilizar, incluso para los desarrolladores con poca o ninguna experiencia en desarrollo web.\n> * **Flexibilidad:** Dash permite crear una amplia variedad de aplicaciones web, desde simples paneles de control hasta aplicaciones web complejas con funciones interactivas.\n> * **Código declarativo:** Dash utiliza un estilo de programación declarativo, lo que hace que el código sea más fácil de leer y mantener.\n> * **Rendimiento:** Dash es un framework muy eficiente que puede manejar grandes cantidades de datos y gráficos complejos sin problemas de rendimiento.\n> \n> **Aplicaciones de Dash**\n> \n> Dash se utiliza para crear una amplia variedad de aplicaciones web, incluyendo:\n> \n> * **Paneles de control:** Dash se utiliza para crear paneles de control interactivos que permiten a los usuarios visualizar y analizar datos.\n> * **Visualizaciones de datos:** Dash se utiliza para crear visualizaciones de datos dinámicas e interactivas que ayudan a los usuarios a entender los datos de una manera más clara y eficaz.\n> * **Aplicaciones web:** Dash se puede utilizar para crear aplicaciones web completas con funciones interactivas, como formularios, tablas y gráficos.\n> \n> **Conclusion**\n> \n> Dash es un potente framework de Python que permite crear aplicaciones web interactivas, paneles de control y visualizaciones de datos. Es fácil de usar, flexible y eficiente, lo que lo convierte en una opción ideal para los desarrolladores que desean crear aplicaciones web sofisticadas sin necesidad de conocimientos previos de JavaScript o HTML."
          },
          "metadata": {},
          "execution_count": 8
        }
      ]
    },
    {
      "cell_type": "code",
      "source": [
        "response = model.generate_content(' Dame una explicacion detallada de que son estos parametros, como y paa que  se utilizan :generation_config = { \"temperature\": 0.1,  \"top_p\": 1, \"top_k\": 1, \"max_output_tokens\": 2048,}')"
      ],
      "metadata": {
        "id": "3J1u7TdvGl6w"
      },
      "execution_count": 23,
      "outputs": []
    },
    {
      "cell_type": "code",
      "source": [
        "to_markdown(response.text)"
      ],
      "metadata": {
        "colab": {
          "base_uri": "https://localhost:8080/",
          "height": 446
        },
        "id": "5UfTglL1HEIF",
        "outputId": "78bf3a28-5946-41ae-b85d-49cd04a85a59"
      },
      "execution_count": 24,
      "outputs": [
        {
          "output_type": "execute_result",
          "data": {
            "text/plain": [
              "<IPython.core.display.Markdown object>"
            ],
            "text/markdown": "> En los modelos de generación de texto,  como GPT-3 o BLOOM, la \"configuración de generación\" es un conjunto de parámetros que controlan el comportamiento del modelo y la salida del texto generado. Estos parámetros influyen en la diversidad, la fluidez y la coherencia del texto generado.\n> \n> **Temperatura**\n> \n> La temperatura es un parámetro que controla la aleatoriedad del modelo. Cuanto mayor sea la temperatura, más aleatorios serán los resultados y mayor será la diversidad del texto generado.\n> Por otro lado, una temperatura baja produce resultados más predecibles y coherentes.\n> \n> **Top-p**\n> \n> El parámetro  \"top_p\"  controla la probabilidad de que el modelo elija la palabra más probable como siguiente palabra en la secuencia. Cuanto mayor sea el valor de  \"top_p\", más probable es que el modelo elija palabras menos probables, lo que puede generar resultados más sorprendentes y creativos.\n> Por otro lado, un valor bajo de \"top_p\" hará que el modelo sea más conservador, generando resultados más predecibles.\n> \n> **Top-k**\n> \n> El parámetro  \"top_k\"  controla el número de palabras más probables que el modelo considerará como siguientes palabras en la secuencia. Cuanto mayor sea el valor de  \"top_k\", más probabilidades tendrá el modelo de elegir una palabra entre las más probables, lo que puede generar resultados más seguros y predecibles.\n> Por el contrario, un valor bajo de \"top_k\" hará que el modelo sea más arriesgado, generando resultados más sorprendentes y creativos.\n> \n> **Número máximo de tokens de salida**\n> \n> El parámetro  \"max_output_tokens\"  controla el número máximo de palabras que el modelo generará como salida. Este parámetro puede ser útil para controlar la longitud del texto generado y asegurarse de que el modelo no genere resultados demasiado largos.\n> \n> \n> Estos parámetros se utilizan para ajustar el comportamiento del modelo y generar texto que cumpla con los requisitos específicos de la aplicación. Por ejemplo, una aplicación que genere poemas puede requerir resultados más creativos y sorprendentes, mientras que una aplicación que genere informes puede requerir resultados más predecibles y coherentes."
          },
          "metadata": {},
          "execution_count": 24
        }
      ]
    },
    {
      "cell_type": "code",
      "source": [
        "response.candidates"
      ],
      "metadata": {
        "colab": {
          "base_uri": "https://localhost:8080/"
        },
        "id": "lHDq_oz8Cu9s",
        "outputId": "5c6d3a3b-f995-428c-ea1f-4f61250a1796"
      },
      "execution_count": 9,
      "outputs": [
        {
          "output_type": "execute_result",
          "data": {
            "text/plain": [
              "[content {\n",
              "  parts {\n",
              "    text: \"Dash de Python es un poderoso framework de Python que permite construir aplicaciones web interactivas, paneles de control y visualizaciones de datos. Es conocido por su facilidad de uso, flexibilidad y su capacidad para crear aplicaciones web sofisticadas sin necesidad de conocimientos previos de JavaScript o HTML.\\n\\n**C\\303\\263mo funciona Dash**\\n\\nDash se basa en las bibliotecas Flask y Plotly. Flask es un framework web ligero que proporciona una interfaz de alto nivel para crear aplicaciones web. Plotly es una biblioteca de visualizaci\\303\\263n gr\\303\\241fica que permite crear gr\\303\\241ficos interactivos y din\\303\\241micos en Python.\\n\\nDash se ejecuta en un servidor web, como Apache o Nginx, y utiliza el framework Flask para manejar las solicitudes y respuestas HTTP. Cuando se realiza una solicitud a una aplicaci\\303\\263n Dash, el servidor web carga el c\\303\\263digo Python necesario para generar la aplicaci\\303\\263n web. El c\\303\\263digo Python utiliza Plotly para crear los gr\\303\\241ficos y otros elementos interactivos de la aplicaci\\303\\263n web. La aplicaci\\303\\263n web se env\\303\\255a entonces al navegador del usuario en forma de p\\303\\241gina web.\\n\\n**Ventajas de Dash**\\n\\nDash ofrece una serie de ventajas sobre otros frameworks de desarrollo web:\\n\\n* **Facilidad de uso:** Dash es f\\303\\241cil de aprender y utilizar, incluso para los desarrolladores con poca o ninguna experiencia en desarrollo web.\\n* **Flexibilidad:** Dash permite crear una amplia variedad de aplicaciones web, desde simples paneles de control hasta aplicaciones web complejas con funciones interactivas.\\n* **C\\303\\263digo declarativo:** Dash utiliza un estilo de programaci\\303\\263n declarativo, lo que hace que el c\\303\\263digo sea m\\303\\241s f\\303\\241cil de leer y mantener.\\n* **Rendimiento:** Dash es un framework muy eficiente que puede manejar grandes cantidades de datos y gr\\303\\241ficos complejos sin problemas de rendimiento.\\n\\n**Aplicaciones de Dash**\\n\\nDash se utiliza para crear una amplia variedad de aplicaciones web, incluyendo:\\n\\n* **Paneles de control:** Dash se utiliza para crear paneles de control interactivos que permiten a los usuarios visualizar y analizar datos.\\n* **Visualizaciones de datos:** Dash se utiliza para crear visualizaciones de datos din\\303\\241micas e interactivas que ayudan a los usuarios a entender los datos de una manera m\\303\\241s clara y eficaz.\\n* **Aplicaciones web:** Dash se puede utilizar para crear aplicaciones web completas con funciones interactivas, como formularios, tablas y gr\\303\\241ficos.\\n\\n**Conclusion**\\n\\nDash es un potente framework de Python que permite crear aplicaciones web interactivas, paneles de control y visualizaciones de datos. Es f\\303\\241cil de usar, flexible y eficiente, lo que lo convierte en una opci\\303\\263n ideal para los desarrolladores que desean crear aplicaciones web sofisticadas sin necesidad de conocimientos previos de JavaScript o HTML.\"\n",
              "  }\n",
              "  role: \"model\"\n",
              "}\n",
              "finish_reason: STOP\n",
              "index: 0\n",
              "safety_ratings {\n",
              "  category: HARM_CATEGORY_SEXUALLY_EXPLICIT\n",
              "  probability: NEGLIGIBLE\n",
              "}\n",
              "safety_ratings {\n",
              "  category: HARM_CATEGORY_HATE_SPEECH\n",
              "  probability: NEGLIGIBLE\n",
              "}\n",
              "safety_ratings {\n",
              "  category: HARM_CATEGORY_HARASSMENT\n",
              "  probability: NEGLIGIBLE\n",
              "}\n",
              "safety_ratings {\n",
              "  category: HARM_CATEGORY_DANGEROUS_CONTENT\n",
              "  probability: NEGLIGIBLE\n",
              "}\n",
              "]"
            ]
          },
          "metadata": {},
          "execution_count": 9
        }
      ]
    },
    {
      "cell_type": "code",
      "source": [],
      "metadata": {
        "id": "3wxQpu_EHDOs"
      },
      "execution_count": null,
      "outputs": []
    },
    {
      "cell_type": "code",
      "source": [
        "import pandas as pd\n",
        "df = pd.read_csv('/content/sample_data/california_housing_test.csv')\n",
        "df.head()"
      ],
      "metadata": {
        "colab": {
          "base_uri": "https://localhost:8080/",
          "height": 206
        },
        "id": "R5eVeBlID724",
        "outputId": "1fbcc4dd-3d4a-484f-ac85-f4f53a89ac1b"
      },
      "execution_count": 11,
      "outputs": [
        {
          "output_type": "execute_result",
          "data": {
            "text/plain": [
              "   longitude  latitude  housing_median_age  total_rooms  total_bedrooms  \\\n",
              "0    -122.05     37.37                27.0       3885.0           661.0   \n",
              "1    -118.30     34.26                43.0       1510.0           310.0   \n",
              "2    -117.81     33.78                27.0       3589.0           507.0   \n",
              "3    -118.36     33.82                28.0         67.0            15.0   \n",
              "4    -119.67     36.33                19.0       1241.0           244.0   \n",
              "\n",
              "   population  households  median_income  median_house_value  \n",
              "0      1537.0       606.0         6.6085            344700.0  \n",
              "1       809.0       277.0         3.5990            176500.0  \n",
              "2      1484.0       495.0         5.7934            270500.0  \n",
              "3        49.0        11.0         6.1359            330000.0  \n",
              "4       850.0       237.0         2.9375             81700.0  "
            ],
            "text/html": [
              "\n",
              "  <div id=\"df-67d2e8d8-b42c-4a3b-8230-e828b2de660e\" class=\"colab-df-container\">\n",
              "    <div>\n",
              "<style scoped>\n",
              "    .dataframe tbody tr th:only-of-type {\n",
              "        vertical-align: middle;\n",
              "    }\n",
              "\n",
              "    .dataframe tbody tr th {\n",
              "        vertical-align: top;\n",
              "    }\n",
              "\n",
              "    .dataframe thead th {\n",
              "        text-align: right;\n",
              "    }\n",
              "</style>\n",
              "<table border=\"1\" class=\"dataframe\">\n",
              "  <thead>\n",
              "    <tr style=\"text-align: right;\">\n",
              "      <th></th>\n",
              "      <th>longitude</th>\n",
              "      <th>latitude</th>\n",
              "      <th>housing_median_age</th>\n",
              "      <th>total_rooms</th>\n",
              "      <th>total_bedrooms</th>\n",
              "      <th>population</th>\n",
              "      <th>households</th>\n",
              "      <th>median_income</th>\n",
              "      <th>median_house_value</th>\n",
              "    </tr>\n",
              "  </thead>\n",
              "  <tbody>\n",
              "    <tr>\n",
              "      <th>0</th>\n",
              "      <td>-122.05</td>\n",
              "      <td>37.37</td>\n",
              "      <td>27.0</td>\n",
              "      <td>3885.0</td>\n",
              "      <td>661.0</td>\n",
              "      <td>1537.0</td>\n",
              "      <td>606.0</td>\n",
              "      <td>6.6085</td>\n",
              "      <td>344700.0</td>\n",
              "    </tr>\n",
              "    <tr>\n",
              "      <th>1</th>\n",
              "      <td>-118.30</td>\n",
              "      <td>34.26</td>\n",
              "      <td>43.0</td>\n",
              "      <td>1510.0</td>\n",
              "      <td>310.0</td>\n",
              "      <td>809.0</td>\n",
              "      <td>277.0</td>\n",
              "      <td>3.5990</td>\n",
              "      <td>176500.0</td>\n",
              "    </tr>\n",
              "    <tr>\n",
              "      <th>2</th>\n",
              "      <td>-117.81</td>\n",
              "      <td>33.78</td>\n",
              "      <td>27.0</td>\n",
              "      <td>3589.0</td>\n",
              "      <td>507.0</td>\n",
              "      <td>1484.0</td>\n",
              "      <td>495.0</td>\n",
              "      <td>5.7934</td>\n",
              "      <td>270500.0</td>\n",
              "    </tr>\n",
              "    <tr>\n",
              "      <th>3</th>\n",
              "      <td>-118.36</td>\n",
              "      <td>33.82</td>\n",
              "      <td>28.0</td>\n",
              "      <td>67.0</td>\n",
              "      <td>15.0</td>\n",
              "      <td>49.0</td>\n",
              "      <td>11.0</td>\n",
              "      <td>6.1359</td>\n",
              "      <td>330000.0</td>\n",
              "    </tr>\n",
              "    <tr>\n",
              "      <th>4</th>\n",
              "      <td>-119.67</td>\n",
              "      <td>36.33</td>\n",
              "      <td>19.0</td>\n",
              "      <td>1241.0</td>\n",
              "      <td>244.0</td>\n",
              "      <td>850.0</td>\n",
              "      <td>237.0</td>\n",
              "      <td>2.9375</td>\n",
              "      <td>81700.0</td>\n",
              "    </tr>\n",
              "  </tbody>\n",
              "</table>\n",
              "</div>\n",
              "    <div class=\"colab-df-buttons\">\n",
              "\n",
              "  <div class=\"colab-df-container\">\n",
              "    <button class=\"colab-df-convert\" onclick=\"convertToInteractive('df-67d2e8d8-b42c-4a3b-8230-e828b2de660e')\"\n",
              "            title=\"Convert this dataframe to an interactive table.\"\n",
              "            style=\"display:none;\">\n",
              "\n",
              "  <svg xmlns=\"http://www.w3.org/2000/svg\" height=\"24px\" viewBox=\"0 -960 960 960\">\n",
              "    <path d=\"M120-120v-720h720v720H120Zm60-500h600v-160H180v160Zm220 220h160v-160H400v160Zm0 220h160v-160H400v160ZM180-400h160v-160H180v160Zm440 0h160v-160H620v160ZM180-180h160v-160H180v160Zm440 0h160v-160H620v160Z\"/>\n",
              "  </svg>\n",
              "    </button>\n",
              "\n",
              "  <style>\n",
              "    .colab-df-container {\n",
              "      display:flex;\n",
              "      gap: 12px;\n",
              "    }\n",
              "\n",
              "    .colab-df-convert {\n",
              "      background-color: #E8F0FE;\n",
              "      border: none;\n",
              "      border-radius: 50%;\n",
              "      cursor: pointer;\n",
              "      display: none;\n",
              "      fill: #1967D2;\n",
              "      height: 32px;\n",
              "      padding: 0 0 0 0;\n",
              "      width: 32px;\n",
              "    }\n",
              "\n",
              "    .colab-df-convert:hover {\n",
              "      background-color: #E2EBFA;\n",
              "      box-shadow: 0px 1px 2px rgba(60, 64, 67, 0.3), 0px 1px 3px 1px rgba(60, 64, 67, 0.15);\n",
              "      fill: #174EA6;\n",
              "    }\n",
              "\n",
              "    .colab-df-buttons div {\n",
              "      margin-bottom: 4px;\n",
              "    }\n",
              "\n",
              "    [theme=dark] .colab-df-convert {\n",
              "      background-color: #3B4455;\n",
              "      fill: #D2E3FC;\n",
              "    }\n",
              "\n",
              "    [theme=dark] .colab-df-convert:hover {\n",
              "      background-color: #434B5C;\n",
              "      box-shadow: 0px 1px 3px 1px rgba(0, 0, 0, 0.15);\n",
              "      filter: drop-shadow(0px 1px 2px rgba(0, 0, 0, 0.3));\n",
              "      fill: #FFFFFF;\n",
              "    }\n",
              "  </style>\n",
              "\n",
              "    <script>\n",
              "      const buttonEl =\n",
              "        document.querySelector('#df-67d2e8d8-b42c-4a3b-8230-e828b2de660e button.colab-df-convert');\n",
              "      buttonEl.style.display =\n",
              "        google.colab.kernel.accessAllowed ? 'block' : 'none';\n",
              "\n",
              "      async function convertToInteractive(key) {\n",
              "        const element = document.querySelector('#df-67d2e8d8-b42c-4a3b-8230-e828b2de660e');\n",
              "        const dataTable =\n",
              "          await google.colab.kernel.invokeFunction('convertToInteractive',\n",
              "                                                    [key], {});\n",
              "        if (!dataTable) return;\n",
              "\n",
              "        const docLinkHtml = 'Like what you see? Visit the ' +\n",
              "          '<a target=\"_blank\" href=https://colab.research.google.com/notebooks/data_table.ipynb>data table notebook</a>'\n",
              "          + ' to learn more about interactive tables.';\n",
              "        element.innerHTML = '';\n",
              "        dataTable['output_type'] = 'display_data';\n",
              "        await google.colab.output.renderOutput(dataTable, element);\n",
              "        const docLink = document.createElement('div');\n",
              "        docLink.innerHTML = docLinkHtml;\n",
              "        element.appendChild(docLink);\n",
              "      }\n",
              "    </script>\n",
              "  </div>\n",
              "\n",
              "\n",
              "<div id=\"df-07e581d3-e9f5-4bf7-81a2-59dce75489e7\">\n",
              "  <button class=\"colab-df-quickchart\" onclick=\"quickchart('df-07e581d3-e9f5-4bf7-81a2-59dce75489e7')\"\n",
              "            title=\"Suggest charts\"\n",
              "            style=\"display:none;\">\n",
              "\n",
              "<svg xmlns=\"http://www.w3.org/2000/svg\" height=\"24px\"viewBox=\"0 0 24 24\"\n",
              "     width=\"24px\">\n",
              "    <g>\n",
              "        <path d=\"M19 3H5c-1.1 0-2 .9-2 2v14c0 1.1.9 2 2 2h14c1.1 0 2-.9 2-2V5c0-1.1-.9-2-2-2zM9 17H7v-7h2v7zm4 0h-2V7h2v10zm4 0h-2v-4h2v4z\"/>\n",
              "    </g>\n",
              "</svg>\n",
              "  </button>\n",
              "\n",
              "<style>\n",
              "  .colab-df-quickchart {\n",
              "      --bg-color: #E8F0FE;\n",
              "      --fill-color: #1967D2;\n",
              "      --hover-bg-color: #E2EBFA;\n",
              "      --hover-fill-color: #174EA6;\n",
              "      --disabled-fill-color: #AAA;\n",
              "      --disabled-bg-color: #DDD;\n",
              "  }\n",
              "\n",
              "  [theme=dark] .colab-df-quickchart {\n",
              "      --bg-color: #3B4455;\n",
              "      --fill-color: #D2E3FC;\n",
              "      --hover-bg-color: #434B5C;\n",
              "      --hover-fill-color: #FFFFFF;\n",
              "      --disabled-bg-color: #3B4455;\n",
              "      --disabled-fill-color: #666;\n",
              "  }\n",
              "\n",
              "  .colab-df-quickchart {\n",
              "    background-color: var(--bg-color);\n",
              "    border: none;\n",
              "    border-radius: 50%;\n",
              "    cursor: pointer;\n",
              "    display: none;\n",
              "    fill: var(--fill-color);\n",
              "    height: 32px;\n",
              "    padding: 0;\n",
              "    width: 32px;\n",
              "  }\n",
              "\n",
              "  .colab-df-quickchart:hover {\n",
              "    background-color: var(--hover-bg-color);\n",
              "    box-shadow: 0 1px 2px rgba(60, 64, 67, 0.3), 0 1px 3px 1px rgba(60, 64, 67, 0.15);\n",
              "    fill: var(--button-hover-fill-color);\n",
              "  }\n",
              "\n",
              "  .colab-df-quickchart-complete:disabled,\n",
              "  .colab-df-quickchart-complete:disabled:hover {\n",
              "    background-color: var(--disabled-bg-color);\n",
              "    fill: var(--disabled-fill-color);\n",
              "    box-shadow: none;\n",
              "  }\n",
              "\n",
              "  .colab-df-spinner {\n",
              "    border: 2px solid var(--fill-color);\n",
              "    border-color: transparent;\n",
              "    border-bottom-color: var(--fill-color);\n",
              "    animation:\n",
              "      spin 1s steps(1) infinite;\n",
              "  }\n",
              "\n",
              "  @keyframes spin {\n",
              "    0% {\n",
              "      border-color: transparent;\n",
              "      border-bottom-color: var(--fill-color);\n",
              "      border-left-color: var(--fill-color);\n",
              "    }\n",
              "    20% {\n",
              "      border-color: transparent;\n",
              "      border-left-color: var(--fill-color);\n",
              "      border-top-color: var(--fill-color);\n",
              "    }\n",
              "    30% {\n",
              "      border-color: transparent;\n",
              "      border-left-color: var(--fill-color);\n",
              "      border-top-color: var(--fill-color);\n",
              "      border-right-color: var(--fill-color);\n",
              "    }\n",
              "    40% {\n",
              "      border-color: transparent;\n",
              "      border-right-color: var(--fill-color);\n",
              "      border-top-color: var(--fill-color);\n",
              "    }\n",
              "    60% {\n",
              "      border-color: transparent;\n",
              "      border-right-color: var(--fill-color);\n",
              "    }\n",
              "    80% {\n",
              "      border-color: transparent;\n",
              "      border-right-color: var(--fill-color);\n",
              "      border-bottom-color: var(--fill-color);\n",
              "    }\n",
              "    90% {\n",
              "      border-color: transparent;\n",
              "      border-bottom-color: var(--fill-color);\n",
              "    }\n",
              "  }\n",
              "</style>\n",
              "\n",
              "  <script>\n",
              "    async function quickchart(key) {\n",
              "      const quickchartButtonEl =\n",
              "        document.querySelector('#' + key + ' button');\n",
              "      quickchartButtonEl.disabled = true;  // To prevent multiple clicks.\n",
              "      quickchartButtonEl.classList.add('colab-df-spinner');\n",
              "      try {\n",
              "        const charts = await google.colab.kernel.invokeFunction(\n",
              "            'suggestCharts', [key], {});\n",
              "      } catch (error) {\n",
              "        console.error('Error during call to suggestCharts:', error);\n",
              "      }\n",
              "      quickchartButtonEl.classList.remove('colab-df-spinner');\n",
              "      quickchartButtonEl.classList.add('colab-df-quickchart-complete');\n",
              "    }\n",
              "    (() => {\n",
              "      let quickchartButtonEl =\n",
              "        document.querySelector('#df-07e581d3-e9f5-4bf7-81a2-59dce75489e7 button');\n",
              "      quickchartButtonEl.style.display =\n",
              "        google.colab.kernel.accessAllowed ? 'block' : 'none';\n",
              "    })();\n",
              "  </script>\n",
              "</div>\n",
              "\n",
              "    </div>\n",
              "  </div>\n"
            ]
          },
          "metadata": {},
          "execution_count": 11
        }
      ]
    },
    {
      "cell_type": "code",
      "source": [
        "import PIL.Image\n",
        "img = PIL.Image.open('/content/sample_data/Grafica_1.PNG')\n",
        "img"
      ],
      "metadata": {
        "colab": {
          "base_uri": "https://localhost:8080/",
          "height": 290
        },
        "id": "HYVnAG3ZEJj5",
        "outputId": "ea6f0efb-3da7-405b-cde2-53792c7c93f9"
      },
      "execution_count": 19,
      "outputs": [
        {
          "output_type": "execute_result",
          "data": {
            "text/plain": [
              "<PIL.PngImagePlugin.PngImageFile image mode=RGBA size=862x273>"
            ],
            "image/png": "[encoded data removed]"
          },
          "metadata": {},
          "execution_count": 19
        }
      ]
    },
    {
      "cell_type": "code",
      "source": [
        "## Cambiamos el modelo a Gemini Pro Vision\n",
        "model = genai.GenerativeModel('gemini-pro-vision')"
      ],
      "metadata": {
        "id": "EFCjCGzEFWXY"
      },
      "execution_count": 20,
      "outputs": []
    },
    {
      "cell_type": "code",
      "source": [
        "response = model.generate_content([\n",
        "    \"¿de que trata la imagen y que me puedes decir de la misma?\"\n",
        "    , img], stream=True)\n",
        "response.resolve()\n",
        "\n",
        "to_markdown(response.text)"
      ],
      "metadata": {
        "colab": {
          "base_uri": "https://localhost:8080/",
          "height": 80
        },
        "id": "uw4E6rB3FcOH",
        "outputId": "1bcc908d-1107-4471-9e8a-1c7854e08b17"
      },
      "execution_count": 21,
      "outputs": [
        {
          "output_type": "execute_result",
          "data": {
            "text/plain": [
              "<IPython.core.display.Markdown object>"
            ],
            "text/markdown": ">  La imagen es un gráfico de velas japonesas que muestra el precio de Bitcoin en los últimos 5 años. El precio de Bitcoin ha estado en una tendencia alcista durante este período, con algunos retrocesos en el camino. El precio actual de Bitcoin es de $47,000."
          },
          "metadata": {},
          "execution_count": 21
        }
      ]
    },
    {
      "cell_type": "code",
      "source": [
        "generation_config = {\n",
        "  \"temperature\": 0.1, # a diferencia de OpenAI, este valor sólo puede llegar a un maximo de 1.0\n",
        "  \"top_p\": 1,\n",
        "  \"top_k\": 1,\n",
        "  \"max_output_tokens\": 2048,\n",
        "}\n",
        "\n",
        "model = genai.GenerativeModel(model_name=\"gemini-pro\",\n",
        "                              generation_config=generation_config)\n",
        "\n",
        "response = model.generate_content(\"¿Cuál es el rol de un profesor?\")\n",
        "to_markdown(response.text)"
      ],
      "metadata": {
        "colab": {
          "base_uri": "https://localhost:8080/",
          "height": 271
        },
        "id": "qjDrLZRZH-gB",
        "outputId": "7989c228-c845-4487-8c89-29a2d4584d79"
      },
      "execution_count": 25,
      "outputs": [
        {
          "output_type": "execute_result",
          "data": {
            "text/plain": [
              "<IPython.core.display.Markdown object>"
            ],
            "text/markdown": "> * **Educar:** El rol principal de un profesor es educar a los estudiantes. Esto incluye enseñarles el material del curso, ayudarles a desarrollar habilidades de pensamiento crítico y resolución de problemas, y prepararlos para el éxito en la vida.\n> * **Motivar:** Los profesores también deben motivar a los estudiantes para que aprendan. Esto puede hacerse creando un ambiente de aprendizaje positivo, proporcionando retroalimentación constructiva y ayudando a los estudiantes a establecer metas y alcanzarlas.\n> * **Evaluar:** Los profesores también deben evaluar el aprendizaje de los estudiantes. Esto puede hacerse a través de exámenes, tareas y otras evaluaciones. La retroalimentación de estas evaluaciones puede ayudar a los estudiantes a identificar sus fortalezas y debilidades y a mejorar su aprendizaje.\n> * **Comunicarse:** Los profesores también deben comunicarse con los estudiantes, los padres y otros miembros del personal escolar. Esto puede hacerse a través de reuniones, correos electrónicos, llamadas telefónicas y otros medios. La comunicación efectiva es esencial para crear un ambiente de aprendizaje positivo y para garantizar que todos los estudiantes tengan éxito.\n> * **Ser un modelo a seguir:** Los profesores también deben ser modelos a seguir para los estudiantes. Esto significa demostrar los valores que quieren que los estudiantes aprendan, como el respeto, la responsabilidad y la integridad. Los profesores también deben ser entusiastas y apasionados por el aprendizaje, y deben demostrar que disfrutan de enseñar."
          },
          "metadata": {},
          "execution_count": 25
        }
      ]
    }
  ]
}