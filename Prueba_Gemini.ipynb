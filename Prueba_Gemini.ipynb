{
  "nbformat": 4,
  "nbformat_minor": 0,
  "metadata": {
    "colab": {
      "provenance": [],
      "authorship_tag": "ABX9TyOVD0QtUev+f97j4Gubudur",
      "include_colab_link": true
    },
    "kernelspec": {
      "name": "python3",
      "display_name": "Python 3"
    },
    "language_info": {
      "name": "python"
    }
  },
  "cells": [
    {
      "cell_type": "markdown",
      "metadata": {
        "id": "view-in-github",
        "colab_type": "text"
      },
      "source": [
        "<a href=\"https://colab.research.google.com/github/JCSR2022/Adv_Fin_ML_Exercises/blob/master/Prueba_Gemini.ipynb\" target=\"_parent\"><img src=\"https://colab.research.google.com/assets/colab-badge.svg\" alt=\"Open In Colab\"/></a>"
      ]
    },
    {
      "cell_type": "code",
      "execution_count": null,
      "metadata": {
        "id": "id5qNoIA_yZO"
      },
      "outputs": [],
      "source": [
        "# https://www.youtube.com/watch?v=XOo_xdt1HKc\n",
        "# Aprende a usar la API de Google Gemini Pro GRATIS | Google AI Studio | Python + Google Colab\n",
        "\n"
      ]
    }
  ]
}